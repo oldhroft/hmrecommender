{
 "cells": [
  {
   "cell_type": "code",
   "execution_count": 1,
   "id": "bcb7ec07",
   "metadata": {
    "_cell_guid": "b1076dfc-b9ad-4769-8c92-a6c4dae69d19",
    "_uuid": "8f2839f25d086af736a60e9eeb907d3b93b6e0e5",
    "execution": {
     "iopub.execute_input": "2022-03-27T21:43:21.285899Z",
     "iopub.status.busy": "2022-03-27T21:43:21.284261Z",
     "iopub.status.idle": "2022-03-27T21:43:21.292729Z",
     "shell.execute_reply": "2022-03-27T21:43:21.293412Z",
     "shell.execute_reply.started": "2022-02-20T17:49:20.31983Z"
    },
    "papermill": {
     "duration": 0.054788,
     "end_time": "2022-03-27T21:43:21.293663",
     "exception": false,
     "start_time": "2022-03-27T21:43:21.238875",
     "status": "completed"
    },
    "tags": []
   },
   "outputs": [],
   "source": [
    "# This Python 3 environment comes with many helpful analytics libraries installed\n",
    "# It is defined by the kaggle/python Docker image: https://github.com/kaggle/docker-python\n",
    "# For example, here's several helpful packages to load\n",
    "\n",
    "import numpy as np # linear algebra\n",
    "import pandas as pd # data processing, CSV file I/O (e.g. pd.read_csv)\n",
    "\n",
    "# Input data files are available in the read-only \"../input/\" directory\n",
    "# For example, running this (by clicking run or pressing Shift+Enter) will list all files under the input directory\n",
    "\n",
    "import os"
   ]
  },
  {
   "cell_type": "code",
   "execution_count": 2,
   "id": "6bc7d6fd",
   "metadata": {
    "execution": {
     "iopub.execute_input": "2022-03-27T21:43:21.372784Z",
     "iopub.status.busy": "2022-03-27T21:43:21.372205Z",
     "iopub.status.idle": "2022-03-27T21:43:21.374833Z",
     "shell.execute_reply": "2022-03-27T21:43:21.375313Z"
    },
    "papermill": {
     "duration": 0.044324,
     "end_time": "2022-03-27T21:43:21.375460",
     "exception": false,
     "start_time": "2022-03-27T21:43:21.331136",
     "status": "completed"
    },
    "tags": []
   },
   "outputs": [],
   "source": [
    "# Идея - вероятность покупки следующих N товаров, при том, что у покупателя уже есть N тоааров\n",
    "# Multi-model ranking\n",
    "# По товарам в наличии?? (Вероятность товара в наличии?)"
   ]
  },
  {
   "cell_type": "code",
   "execution_count": 3,
   "id": "9b74c3d0",
   "metadata": {
    "execution": {
     "iopub.execute_input": "2022-03-27T21:43:21.452816Z",
     "iopub.status.busy": "2022-03-27T21:43:21.452164Z",
     "iopub.status.idle": "2022-03-27T21:44:22.729722Z",
     "shell.execute_reply": "2022-03-27T21:44:22.730492Z",
     "shell.execute_reply.started": "2022-02-20T17:49:22.649955Z"
    },
    "papermill": {
     "duration": 61.318111,
     "end_time": "2022-03-27T21:44:22.731024",
     "exception": false,
     "start_time": "2022-03-27T21:43:21.412913",
     "status": "completed"
    },
    "tags": []
   },
   "outputs": [],
   "source": [
    "data = pd.read_csv(\"../input/h-and-m-personalized-fashion-recommendations/transactions_train.csv\")"
   ]
  },
  {
   "cell_type": "code",
   "execution_count": 4,
   "id": "828b9325",
   "metadata": {
    "execution": {
     "iopub.execute_input": "2022-03-27T21:44:22.815074Z",
     "iopub.status.busy": "2022-03-27T21:44:22.814372Z",
     "iopub.status.idle": "2022-03-27T21:44:28.150562Z",
     "shell.execute_reply": "2022-03-27T21:44:28.150990Z",
     "shell.execute_reply.started": "2022-02-20T16:50:15.867103Z"
    },
    "papermill": {
     "duration": 5.377928,
     "end_time": "2022-03-27T21:44:28.151179",
     "exception": false,
     "start_time": "2022-03-27T21:44:22.773251",
     "status": "completed"
    },
    "tags": []
   },
   "outputs": [
    {
     "name": "stdout",
     "output_type": "stream",
     "text": [
      "(31788324, 5)\n"
     ]
    },
    {
     "data": {
      "text/plain": [
       "Index               0.000\n",
       "t_dat               1.984\n",
       "customer_id         3.582\n",
       "article_id          0.237\n",
       "price               0.237\n",
       "sales_channel_id    0.237\n",
       "dtype: float64"
      ]
     },
     "execution_count": 4,
     "metadata": {},
     "output_type": "execute_result"
    }
   ],
   "source": [
    "print(data.shape)\n",
    "\n",
    "data.memory_usage(deep=True).divide(1024 ** 3).round(3)"
   ]
  },
  {
   "cell_type": "code",
   "execution_count": 5,
   "id": "22a54be6",
   "metadata": {
    "execution": {
     "iopub.execute_input": "2022-03-27T21:44:28.230648Z",
     "iopub.status.busy": "2022-03-27T21:44:28.229637Z",
     "iopub.status.idle": "2022-03-27T21:44:31.066066Z",
     "shell.execute_reply": "2022-03-27T21:44:31.065399Z",
     "shell.execute_reply.started": "2022-02-20T16:50:26.847611Z"
    },
    "papermill": {
     "duration": 2.876849,
     "end_time": "2022-03-27T21:44:31.066221",
     "exception": false,
     "start_time": "2022-03-27T21:44:28.189372",
     "status": "completed"
    },
    "tags": []
   },
   "outputs": [
    {
     "name": "stderr",
     "output_type": "stream",
     "text": [
      "/opt/conda/lib/python3.7/site-packages/ipykernel_launcher.py:1: FutureWarning: null_counts is deprecated. Use show_counts instead\n",
      "  \"\"\"Entry point for launching an IPython kernel.\n"
     ]
    },
    {
     "name": "stdout",
     "output_type": "stream",
     "text": [
      "<class 'pandas.core.frame.DataFrame'>\n",
      "RangeIndex: 31788324 entries, 0 to 31788323\n",
      "Data columns (total 5 columns):\n",
      " #   Column            Non-Null Count     Dtype  \n",
      "---  ------            --------------     -----  \n",
      " 0   t_dat             31788324 non-null  object \n",
      " 1   customer_id       31788324 non-null  object \n",
      " 2   article_id        31788324 non-null  int64  \n",
      " 3   price             31788324 non-null  float64\n",
      " 4   sales_channel_id  31788324 non-null  int64  \n",
      "dtypes: float64(1), int64(2), object(2)\n",
      "memory usage: 1.2+ GB\n"
     ]
    }
   ],
   "source": [
    "data.info(null_counts=True)"
   ]
  },
  {
   "cell_type": "code",
   "execution_count": 6,
   "id": "e69d481d",
   "metadata": {
    "execution": {
     "iopub.execute_input": "2022-03-27T21:44:32.365482Z",
     "iopub.status.busy": "2022-03-27T21:44:32.364843Z",
     "iopub.status.idle": "2022-03-27T21:44:38.793625Z",
     "shell.execute_reply": "2022-03-27T21:44:38.794066Z",
     "shell.execute_reply.started": "2022-02-20T16:50:32.660357Z"
    },
    "papermill": {
     "duration": 7.688544,
     "end_time": "2022-03-27T21:44:38.794221",
     "exception": false,
     "start_time": "2022-03-27T21:44:31.105677",
     "status": "completed"
    },
    "tags": []
   },
   "outputs": [
    {
     "data": {
      "text/plain": [
       "(1362281, 104547, 2)"
      ]
     },
     "execution_count": 6,
     "metadata": {},
     "output_type": "execute_result"
    }
   ],
   "source": [
    "data.customer_id.nunique(), data.article_id.nunique(), data.sales_channel_id.nunique()"
   ]
  },
  {
   "cell_type": "code",
   "execution_count": 7,
   "id": "84036ef9",
   "metadata": {
    "execution": {
     "iopub.execute_input": "2022-03-27T21:44:38.874164Z",
     "iopub.status.busy": "2022-03-27T21:44:38.873564Z",
     "iopub.status.idle": "2022-03-27T21:44:50.714935Z",
     "shell.execute_reply": "2022-03-27T21:44:50.715350Z",
     "shell.execute_reply.started": "2022-02-20T16:50:41.275129Z"
    },
    "papermill": {
     "duration": 11.882966,
     "end_time": "2022-03-27T21:44:50.715512",
     "exception": false,
     "start_time": "2022-03-27T21:44:38.832546",
     "status": "completed"
    },
    "tags": []
   },
   "outputs": [
    {
     "name": "stdout",
     "output_type": "stream",
     "text": [
      "count    1362281.000\n",
      "mean          23.335\n",
      "std           39.242\n",
      "min            1.000\n",
      "10%            2.000\n",
      "20%            3.000\n",
      "30%            4.000\n",
      "40%            6.000\n",
      "50%            9.000\n",
      "60%           14.000\n",
      "70%           21.000\n",
      "80%           34.000\n",
      "90%           60.000\n",
      "max         1895.000\n",
      "Name: t_dat, dtype: float64\n"
     ]
    },
    {
     "data": {
      "text/plain": [
       "<AxesSubplot:>"
      ]
     },
     "execution_count": 7,
     "metadata": {},
     "output_type": "execute_result"
    },
    {
     "data": {
      "image/png": "[encoded data removed]",
      "text/plain": [
       "<Figure size 432x288 with 1 Axes>"
      ]
     },
     "metadata": {
      "needs_background": "light"
     },
     "output_type": "display_data"
    }
   ],
   "source": [
    "cnt = data.groupby('customer_id').t_dat.count()\n",
    "\n",
    "print(cnt.describe(percentiles=np.arange(.1, 1, .1)).round(3))\n",
    "\n",
    "cnt.hist(bins=30, range=(0, 500))"
   ]
  },
  {
   "cell_type": "code",
   "execution_count": 8,
   "id": "f8a9a0f0",
   "metadata": {
    "execution": {
     "iopub.execute_input": "2022-03-27T21:44:50.799907Z",
     "iopub.status.busy": "2022-03-27T21:44:50.798976Z",
     "iopub.status.idle": "2022-03-27T21:44:51.286931Z",
     "shell.execute_reply": "2022-03-27T21:44:51.287418Z",
     "shell.execute_reply.started": "2022-02-20T16:50:56.483927Z"
    },
    "papermill": {
     "duration": 0.532189,
     "end_time": "2022-03-27T21:44:51.287587",
     "exception": false,
     "start_time": "2022-03-27T21:44:50.755398",
     "status": "completed"
    },
    "tags": []
   },
   "outputs": [
    {
     "data": {
      "text/plain": [
       "<AxesSubplot:>"
      ]
     },
     "execution_count": 8,
     "metadata": {},
     "output_type": "execute_result"
    },
    {
     "data": {
      "image/png": "[encoded data removed]",
      "text/plain": [
       "<Figure size 432x288 with 1 Axes>"
      ]
     },
     "metadata": {
      "needs_background": "light"
     },
     "output_type": "display_data"
    }
   ],
   "source": [
    "cnt.loc[lambda x: x < 20].value_counts().plot.bar()"
   ]
  },
  {
   "cell_type": "code",
   "execution_count": 9,
   "id": "3a9623c8",
   "metadata": {
    "execution": {
     "iopub.execute_input": "2022-03-27T21:44:51.372780Z",
     "iopub.status.busy": "2022-03-27T21:44:51.372159Z",
     "iopub.status.idle": "2022-03-27T21:44:53.600069Z",
     "shell.execute_reply": "2022-03-27T21:44:53.600526Z",
     "shell.execute_reply.started": "2022-02-20T16:50:57.050078Z"
    },
    "papermill": {
     "duration": 2.272485,
     "end_time": "2022-03-27T21:44:53.600721",
     "exception": false,
     "start_time": "2022-03-27T21:44:51.328236",
     "status": "completed"
    },
    "tags": []
   },
   "outputs": [
    {
     "name": "stdout",
     "output_type": "stream",
     "text": [
      "count    104547.000\n",
      "mean        304.058\n",
      "std         791.266\n",
      "min           1.000\n",
      "10%           4.000\n",
      "20%           9.000\n",
      "30%          19.000\n",
      "40%          36.000\n",
      "50%          65.000\n",
      "60%         117.000\n",
      "70%         211.000\n",
      "80%         388.000\n",
      "90%         793.000\n",
      "max       50287.000\n",
      "Name: t_dat, dtype: float64\n"
     ]
    },
    {
     "data": {
      "text/plain": [
       "<AxesSubplot:>"
      ]
     },
     "execution_count": 9,
     "metadata": {},
     "output_type": "execute_result"
    },
    {
     "data": {
      "image/png": "[encoded data removed]",
      "text/plain": [
       "<Figure size 432x288 with 1 Axes>"
      ]
     },
     "metadata": {
      "needs_background": "light"
     },
     "output_type": "display_data"
    }
   ],
   "source": [
    "cnt = data.groupby('article_id').t_dat.count()\n",
    "\n",
    "print(cnt.describe(percentiles=np.arange(.1, 1, .1)).round(3))\n",
    "\n",
    "cnt.hist(bins=30, range=(0, 500))"
   ]
  },
  {
   "cell_type": "code",
   "execution_count": 10,
   "id": "b154cc71",
   "metadata": {
    "execution": {
     "iopub.execute_input": "2022-03-27T21:44:53.688389Z",
     "iopub.status.busy": "2022-03-27T21:44:53.687818Z",
     "iopub.status.idle": "2022-03-27T21:44:53.930109Z",
     "shell.execute_reply": "2022-03-27T21:44:53.930552Z",
     "shell.execute_reply.started": "2022-02-20T16:51:01.070355Z"
    },
    "papermill": {
     "duration": 0.287674,
     "end_time": "2022-03-27T21:44:53.930721",
     "exception": false,
     "start_time": "2022-03-27T21:44:53.643047",
     "status": "completed"
    },
    "tags": []
   },
   "outputs": [
    {
     "data": {
      "text/plain": [
       "<AxesSubplot:>"
      ]
     },
     "execution_count": 10,
     "metadata": {},
     "output_type": "execute_result"
    },
    {
     "data": {
      "image/png": "[encoded data removed]",
      "text/plain": [
       "<Figure size 432x288 with 1 Axes>"
      ]
     },
     "metadata": {
      "needs_background": "light"
     },
     "output_type": "display_data"
    }
   ],
   "source": [
    "cnt.loc[lambda x: x < 20].value_counts().plot.bar()"
   ]
  },
  {
   "cell_type": "code",
   "execution_count": 11,
   "id": "18160840",
   "metadata": {
    "execution": {
     "iopub.execute_input": "2022-03-27T21:44:54.020835Z",
     "iopub.status.busy": "2022-03-27T21:44:54.020236Z",
     "iopub.status.idle": "2022-03-27T21:44:56.284322Z",
     "shell.execute_reply": "2022-03-27T21:44:56.284825Z",
     "shell.execute_reply.started": "2022-02-20T16:51:01.399811Z"
    },
    "papermill": {
     "duration": 2.310546,
     "end_time": "2022-03-27T21:44:56.285015",
     "exception": false,
     "start_time": "2022-03-27T21:44:53.974469",
     "status": "completed"
    },
    "tags": []
   },
   "outputs": [
    {
     "name": "stdout",
     "output_type": "stream",
     "text": [
      "count    3.178832e+07\n",
      "mean     2.800000e-02\n",
      "std      1.900000e-02\n",
      "min      0.000000e+00\n",
      "10%      1.000000e-02\n",
      "20%      1.400000e-02\n",
      "30%      1.700000e-02\n",
      "40%      2.000000e-02\n",
      "50%      2.500000e-02\n",
      "60%      2.700000e-02\n",
      "70%      3.400000e-02\n",
      "80%      3.800000e-02\n",
      "90%      5.100000e-02\n",
      "max      5.920000e-01\n",
      "Name: price, dtype: float64\n"
     ]
    },
    {
     "data": {
      "text/plain": [
       "<AxesSubplot:>"
      ]
     },
     "execution_count": 11,
     "metadata": {},
     "output_type": "execute_result"
    },
    {
     "data": {
      "image/png": "[encoded data removed]",
      "text/plain": [
       "<Figure size 432x288 with 1 Axes>"
      ]
     },
     "metadata": {
      "needs_background": "light"
     },
     "output_type": "display_data"
    }
   ],
   "source": [
    "print(data.price.describe(percentiles=np.arange(.1, 1, .1)).round(3))\n",
    "\n",
    "data.price.hist(bins=40)"
   ]
  },
  {
   "cell_type": "code",
   "execution_count": 12,
   "id": "e48724b3",
   "metadata": {
    "execution": {
     "iopub.execute_input": "2022-03-27T21:44:56.378455Z",
     "iopub.status.busy": "2022-03-27T21:44:56.377827Z",
     "iopub.status.idle": "2022-03-27T21:44:56.545873Z",
     "shell.execute_reply": "2022-03-27T21:44:56.545384Z",
     "shell.execute_reply.started": "2022-02-20T16:51:03.62156Z"
    },
    "papermill": {
     "duration": 0.215901,
     "end_time": "2022-03-27T21:44:56.546019",
     "exception": false,
     "start_time": "2022-03-27T21:44:56.330118",
     "status": "completed"
    },
    "tags": []
   },
   "outputs": [
    {
     "data": {
      "text/plain": [
       "2    22379862\n",
       "1     9408462\n",
       "Name: sales_channel_id, dtype: int64"
      ]
     },
     "execution_count": 12,
     "metadata": {},
     "output_type": "execute_result"
    }
   ],
   "source": [
    "data.sales_channel_id.value_counts()"
   ]
  },
  {
   "cell_type": "code",
   "execution_count": 13,
   "id": "efc0fee7",
   "metadata": {
    "execution": {
     "iopub.execute_input": "2022-03-27T21:44:56.639944Z",
     "iopub.status.busy": "2022-03-27T21:44:56.639340Z",
     "iopub.status.idle": "2022-03-27T21:45:00.950163Z",
     "shell.execute_reply": "2022-03-27T21:45:00.949607Z",
     "shell.execute_reply.started": "2022-02-20T16:51:03.796435Z"
    },
    "papermill": {
     "duration": 4.358705,
     "end_time": "2022-03-27T21:45:00.950305",
     "exception": false,
     "start_time": "2022-03-27T21:44:56.591600",
     "status": "completed"
    },
    "tags": []
   },
   "outputs": [],
   "source": [
    "data.t_dat = data.t_dat.astype('datetime64')"
   ]
  },
  {
   "cell_type": "code",
   "execution_count": 14,
   "id": "47496352",
   "metadata": {
    "execution": {
     "iopub.execute_input": "2022-03-27T21:45:01.044645Z",
     "iopub.status.busy": "2022-03-27T21:45:01.044078Z",
     "iopub.status.idle": "2022-03-27T21:45:01.919632Z",
     "shell.execute_reply": "2022-03-27T21:45:01.919169Z",
     "shell.execute_reply.started": "2022-02-20T16:51:09.543508Z"
    },
    "papermill": {
     "duration": 0.922976,
     "end_time": "2022-03-27T21:45:01.919766",
     "exception": false,
     "start_time": "2022-03-27T21:45:00.996790",
     "status": "completed"
    },
    "tags": []
   },
   "outputs": [
    {
     "data": {
      "text/plain": [
       "<AxesSubplot:xlabel='t_dat'>"
      ]
     },
     "execution_count": 14,
     "metadata": {},
     "output_type": "execute_result"
    },
    {
     "data": {
      "image/png": "[encoded data removed]",
      "text/plain": [
       "<Figure size 432x288 with 1 Axes>"
      ]
     },
     "metadata": {
      "needs_background": "light"
     },
     "output_type": "display_data"
    }
   ],
   "source": [
    "data.groupby('t_dat').size().sort_index().asfreq('d').plot()\n",
    "\n",
    "# У нас есть только два года наблюдений\n",
    "# Сезонность явно годовая, летом продажи больше, зимой меньше"
   ]
  },
  {
   "cell_type": "code",
   "execution_count": 15,
   "id": "294a4285",
   "metadata": {
    "execution": {
     "iopub.execute_input": "2022-03-27T21:45:02.016459Z",
     "iopub.status.busy": "2022-03-27T21:45:02.015564Z",
     "iopub.status.idle": "2022-03-27T21:45:02.214443Z",
     "shell.execute_reply": "2022-03-27T21:45:02.213821Z",
     "shell.execute_reply.started": "2022-02-20T16:51:10.45755Z"
    },
    "papermill": {
     "duration": 0.248085,
     "end_time": "2022-03-27T21:45:02.214577",
     "exception": false,
     "start_time": "2022-03-27T21:45:01.966492",
     "status": "completed"
    },
    "tags": []
   },
   "outputs": [
    {
     "data": {
      "text/plain": [
       "min   2018-09-20\n",
       "max   2020-09-22\n",
       "Name: t_dat, dtype: datetime64[ns]"
      ]
     },
     "execution_count": 15,
     "metadata": {},
     "output_type": "execute_result"
    }
   ],
   "source": [
    "data.t_dat.agg(['min', 'max'])"
   ]
  },
  {
   "cell_type": "code",
   "execution_count": 16,
   "id": "6ae89824",
   "metadata": {
    "execution": {
     "iopub.execute_input": "2022-03-27T21:45:02.311830Z",
     "iopub.status.busy": "2022-03-27T21:45:02.309865Z",
     "iopub.status.idle": "2022-03-27T21:45:03.133663Z",
     "shell.execute_reply": "2022-03-27T21:45:03.134157Z",
     "shell.execute_reply.started": "2022-02-20T16:51:10.681409Z"
    },
    "papermill": {
     "duration": 0.873435,
     "end_time": "2022-03-27T21:45:03.134320",
     "exception": false,
     "start_time": "2022-03-27T21:45:02.260885",
     "status": "completed"
    },
    "tags": []
   },
   "outputs": [
    {
     "data": {
      "text/plain": [
       "<AxesSubplot:xlabel='t_dat'>"
      ]
     },
     "execution_count": 16,
     "metadata": {},
     "output_type": "execute_result"
    },
    {
     "data": {
      "image/png": "[encoded data removed]",
      "text/plain": [
       "<Figure size 432x288 with 1 Axes>"
      ]
     },
     "metadata": {
      "needs_background": "light"
     },
     "output_type": "display_data"
    }
   ],
   "source": [
    "# Зимой средний чек меньше, летом больше\n",
    "\n",
    "data.groupby('t_dat').price.mean().sort_index().asfreq('d').plot()"
   ]
  },
  {
   "cell_type": "code",
   "execution_count": 17,
   "id": "d203545f",
   "metadata": {
    "execution": {
     "iopub.execute_input": "2022-03-27T21:45:03.236719Z",
     "iopub.status.busy": "2022-03-27T21:45:03.235746Z",
     "iopub.status.idle": "2022-03-27T21:45:04.579816Z",
     "shell.execute_reply": "2022-03-27T21:45:04.579314Z",
     "shell.execute_reply.started": "2022-02-20T16:51:11.606268Z"
    },
    "papermill": {
     "duration": 1.397431,
     "end_time": "2022-03-27T21:45:04.579951",
     "exception": false,
     "start_time": "2022-03-27T21:45:03.182520",
     "status": "completed"
    },
    "tags": []
   },
   "outputs": [
    {
     "data": {
      "text/plain": [
       "<AxesSubplot:>"
      ]
     },
     "execution_count": 17,
     "metadata": {},
     "output_type": "execute_result"
    },
    {
     "data": {
      "image/png": "[encoded data removed]",
      "text/plain": [
       "<Figure size 432x288 with 1 Axes>"
      ]
     },
     "metadata": {
      "needs_background": "light"
     },
     "output_type": "display_data"
    }
   ],
   "source": [
    "data.groupby('article_id').price.std().hist(bins=20)"
   ]
  },
  {
   "cell_type": "code",
   "execution_count": 18,
   "id": "d457f444",
   "metadata": {
    "execution": {
     "iopub.execute_input": "2022-03-27T21:45:04.681479Z",
     "iopub.status.busy": "2022-03-27T21:45:04.680851Z",
     "iopub.status.idle": "2022-03-27T21:45:11.751395Z",
     "shell.execute_reply": "2022-03-27T21:45:11.752087Z",
     "shell.execute_reply.started": "2022-02-20T16:51:13.243836Z"
    },
    "papermill": {
     "duration": 7.122661,
     "end_time": "2022-03-27T21:45:11.752257",
     "exception": false,
     "start_time": "2022-03-27T21:45:04.629596",
     "status": "completed"
    },
    "tags": []
   },
   "outputs": [
    {
     "data": {
      "text/plain": [
       "<AxesSubplot:xlabel='t_dat'>"
      ]
     },
     "execution_count": 18,
     "metadata": {},
     "output_type": "execute_result"
    },
    {
     "data": {
      "image/png": "[encoded data removed]",
      "text/plain": [
       "<Figure size 432x288 with 1 Axes>"
      ]
     },
     "metadata": {
      "needs_background": "light"
     },
     "output_type": "display_data"
    }
   ],
   "source": [
    "data.groupby(['t_dat', 'article_id']).price.mean().groupby(level=0).mean().plot()"
   ]
  },
  {
   "cell_type": "code",
   "execution_count": 19,
   "id": "0f853aad",
   "metadata": {
    "execution": {
     "iopub.execute_input": "2022-03-27T21:45:11.856528Z",
     "iopub.status.busy": "2022-03-27T21:45:11.855957Z",
     "iopub.status.idle": "2022-03-27T21:45:16.625825Z",
     "shell.execute_reply": "2022-03-27T21:45:16.625333Z",
     "shell.execute_reply.started": "2022-02-20T16:51:21.123528Z"
    },
    "papermill": {
     "duration": 4.823107,
     "end_time": "2022-03-27T21:45:16.625968",
     "exception": false,
     "start_time": "2022-03-27T21:45:11.802861",
     "status": "completed"
    },
    "tags": []
   },
   "outputs": [],
   "source": [
    "customers = pd.read_csv('../input/h-and-m-personalized-fashion-recommendations/customers.csv')"
   ]
  },
  {
   "cell_type": "code",
   "execution_count": 20,
   "id": "a7f6a933",
   "metadata": {
    "execution": {
     "iopub.execute_input": "2022-03-27T21:45:16.733654Z",
     "iopub.status.busy": "2022-03-27T21:45:16.733058Z",
     "iopub.status.idle": "2022-03-27T21:45:17.017378Z",
     "shell.execute_reply": "2022-03-27T21:45:17.017952Z",
     "shell.execute_reply.started": "2022-02-20T16:51:26.277406Z"
    },
    "papermill": {
     "duration": 0.340322,
     "end_time": "2022-03-27T21:45:17.018139",
     "exception": false,
     "start_time": "2022-03-27T21:45:16.677817",
     "status": "completed"
    },
    "tags": []
   },
   "outputs": [
    {
     "name": "stdout",
     "output_type": "stream",
     "text": [
      "(1371980, 7)\n"
     ]
    },
    {
     "name": "stderr",
     "output_type": "stream",
     "text": [
      "/opt/conda/lib/python3.7/site-packages/ipykernel_launcher.py:3: FutureWarning: null_counts is deprecated. Use show_counts instead\n",
      "  This is separate from the ipykernel package so we can avoid doing imports until\n"
     ]
    },
    {
     "name": "stdout",
     "output_type": "stream",
     "text": [
      "<class 'pandas.core.frame.DataFrame'>\n",
      "RangeIndex: 1371980 entries, 0 to 1371979\n",
      "Data columns (total 7 columns):\n",
      " #   Column                  Non-Null Count    Dtype  \n",
      "---  ------                  --------------    -----  \n",
      " 0   customer_id             1371980 non-null  object \n",
      " 1   FN                      476930 non-null   float64\n",
      " 2   Active                  464404 non-null   float64\n",
      " 3   club_member_status      1365918 non-null  object \n",
      " 4   fashion_news_frequency  1355971 non-null  object \n",
      " 5   age                     1356119 non-null  float64\n",
      " 6   postal_code             1371980 non-null  object \n",
      "dtypes: float64(3), object(4)\n",
      "memory usage: 73.3+ MB\n"
     ]
    }
   ],
   "source": [
    "print(customers.shape)\n",
    "\n",
    "customers.info(null_counts=True)"
   ]
  },
  {
   "cell_type": "code",
   "execution_count": 21,
   "id": "f7855160",
   "metadata": {
    "execution": {
     "iopub.execute_input": "2022-03-27T21:45:17.765857Z",
     "iopub.status.busy": "2022-03-27T21:45:17.765243Z",
     "iopub.status.idle": "2022-03-27T21:45:17.814694Z",
     "shell.execute_reply": "2022-03-27T21:45:17.815158Z",
     "shell.execute_reply.started": "2022-02-20T17:16:28.066971Z"
    },
    "papermill": {
     "duration": 0.745679,
     "end_time": "2022-03-27T21:45:17.815319",
     "exception": false,
     "start_time": "2022-03-27T21:45:17.069640",
     "status": "completed"
    },
    "tags": []
   },
   "outputs": [
    {
     "data": {
      "text/plain": [
       "2c29ae653a9282cce4151bd87643c907644e09541abc28ae87dea0d1f6603b1c    120303\n",
       "cc4ed85e30f4977dae47662ddc468cd2eec11472de6fac5ec985080fd92243c8       261\n",
       "714976379549eb90aae4a71bca6c7402cc646ae7c40f6c1cb91d4b5a18623fc1       159\n",
       "7c1fa3b0ec1d37ce2c3f34f63bd792f3b4494f324b6be5d1e4ba6a75456b96a7       157\n",
       "5b7eb31eabebd3277de632b82267286d847fd5d44287ee150bb4206b48439145       156\n",
       "Name: postal_code, dtype: int64"
      ]
     },
     "execution_count": 21,
     "metadata": {},
     "output_type": "execute_result"
    }
   ],
   "source": [
    "#\n",
    "\n",
    "cnt = customers.postal_code.value_counts()\n",
    "\n",
    "cnt.head()"
   ]
  },
  {
   "cell_type": "code",
   "execution_count": 22,
   "id": "687a0478",
   "metadata": {
    "execution": {
     "iopub.execute_input": "2022-03-27T21:45:17.925123Z",
     "iopub.status.busy": "2022-03-27T21:45:17.924237Z",
     "iopub.status.idle": "2022-03-27T21:45:18.065715Z",
     "shell.execute_reply": "2022-03-27T21:45:18.065232Z",
     "shell.execute_reply.started": "2022-02-20T17:17:47.843531Z"
    },
    "papermill": {
     "duration": 0.197993,
     "end_time": "2022-03-27T21:45:18.065863",
     "exception": false,
     "start_time": "2022-03-27T21:45:17.867870",
     "status": "completed"
    },
    "tags": []
   },
   "outputs": [
    {
     "data": {
      "text/plain": [
       "2c29ae653a9282cce4151bd87643c907644e09541abc28ae87dea0d1f6603b1c    8.769%\n",
       "cc4ed85e30f4977dae47662ddc468cd2eec11472de6fac5ec985080fd92243c8    0.019%\n",
       "714976379549eb90aae4a71bca6c7402cc646ae7c40f6c1cb91d4b5a18623fc1    0.012%\n",
       "7c1fa3b0ec1d37ce2c3f34f63bd792f3b4494f324b6be5d1e4ba6a75456b96a7    0.011%\n",
       "5b7eb31eabebd3277de632b82267286d847fd5d44287ee150bb4206b48439145    0.011%\n",
       "Name: postal_code, dtype: object"
      ]
     },
     "execution_count": 22,
     "metadata": {},
     "output_type": "execute_result"
    }
   ],
   "source": [
    "# Почему у большинства покупателей один и тот же индекс??\n",
    "\n",
    "cnt.divide(cnt.sum()).multiply(100).round(3).apply('{}%'.format).head()"
   ]
  },
  {
   "cell_type": "code",
   "execution_count": 23,
   "id": "f469af6f",
   "metadata": {
    "execution": {
     "iopub.execute_input": "2022-03-27T21:45:18.174155Z",
     "iopub.status.busy": "2022-03-27T21:45:18.173602Z",
     "iopub.status.idle": "2022-03-27T21:45:18.262359Z",
     "shell.execute_reply": "2022-03-27T21:45:18.262757Z",
     "shell.execute_reply.started": "2022-02-20T17:25:02.735274Z"
    },
    "papermill": {
     "duration": 0.144117,
     "end_time": "2022-03-27T21:45:18.262919",
     "exception": false,
     "start_time": "2022-03-27T21:45:18.118802",
     "status": "completed"
    },
    "tags": []
   },
   "outputs": [
    {
     "data": {
      "text/plain": [
       "ACTIVE        1272491\n",
       "PRE-CREATE      92960\n",
       "NaN              6062\n",
       "LEFT CLUB         467\n",
       "Name: club_member_status, dtype: int64"
      ]
     },
     "execution_count": 23,
     "metadata": {},
     "output_type": "execute_result"
    }
   ],
   "source": [
    "customers.club_member_status.value_counts(dropna=False)"
   ]
  },
  {
   "cell_type": "code",
   "execution_count": 24,
   "id": "986445ff",
   "metadata": {
    "execution": {
     "iopub.execute_input": "2022-03-27T21:45:18.370941Z",
     "iopub.status.busy": "2022-03-27T21:45:18.370357Z",
     "iopub.status.idle": "2022-03-27T21:45:18.397246Z",
     "shell.execute_reply": "2022-03-27T21:45:18.397675Z",
     "shell.execute_reply.started": "2022-02-20T17:14:16.693852Z"
    },
    "papermill": {
     "duration": 0.082888,
     "end_time": "2022-03-27T21:45:18.397852",
     "exception": false,
     "start_time": "2022-03-27T21:45:18.314964",
     "status": "completed"
    },
    "tags": []
   },
   "outputs": [
    {
     "data": {
      "text/plain": [
       "NaN    895050\n",
       "1.0    476930\n",
       "Name: FN, dtype: int64"
      ]
     },
     "execution_count": 24,
     "metadata": {},
     "output_type": "execute_result"
    }
   ],
   "source": [
    "customers.FN.value_counts(dropna=False)"
   ]
  },
  {
   "cell_type": "code",
   "execution_count": 25,
   "id": "a9850e83",
   "metadata": {
    "execution": {
     "iopub.execute_input": "2022-03-27T21:45:18.507822Z",
     "iopub.status.busy": "2022-03-27T21:45:18.507278Z",
     "iopub.status.idle": "2022-03-27T21:45:18.599356Z",
     "shell.execute_reply": "2022-03-27T21:45:18.599797Z",
     "shell.execute_reply.started": "2022-02-20T16:51:27.912612Z"
    },
    "papermill": {
     "duration": 0.148787,
     "end_time": "2022-03-27T21:45:18.599956",
     "exception": false,
     "start_time": "2022-03-27T21:45:18.451169",
     "status": "completed"
    },
    "tags": []
   },
   "outputs": [
    {
     "data": {
      "text/plain": [
       "NONE         877711\n",
       "Regularly    477416\n",
       "NaN           16009\n",
       "Monthly         842\n",
       "None              2\n",
       "Name: fashion_news_frequency, dtype: int64"
      ]
     },
     "execution_count": 25,
     "metadata": {},
     "output_type": "execute_result"
    }
   ],
   "source": [
    "customers.fashion_news_frequency.value_counts(dropna=False)"
   ]
  },
  {
   "cell_type": "code",
   "execution_count": 26,
   "id": "7a5cb0a5",
   "metadata": {
    "execution": {
     "iopub.execute_input": "2022-03-27T21:45:18.710612Z",
     "iopub.status.busy": "2022-03-27T21:45:18.709712Z",
     "iopub.status.idle": "2022-03-27T21:45:18.859586Z",
     "shell.execute_reply": "2022-03-27T21:45:18.860041Z",
     "shell.execute_reply.started": "2022-02-20T17:15:04.117546Z"
    },
    "papermill": {
     "duration": 0.206688,
     "end_time": "2022-03-27T21:45:18.860213",
     "exception": false,
     "start_time": "2022-03-27T21:45:18.653525",
     "status": "completed"
    },
    "tags": []
   },
   "outputs": [
    {
     "data": {
      "text/plain": [
       "<AxesSubplot:>"
      ]
     },
     "execution_count": 26,
     "metadata": {},
     "output_type": "execute_result"
    },
    {
     "data": {
      "image/png": "[encoded data removed]",
      "text/plain": [
       "<Figure size 432x288 with 1 Axes>"
      ]
     },
     "metadata": {
      "needs_background": "light"
     },
     "output_type": "display_data"
    }
   ],
   "source": [
    "customers.age.value_counts().sort_index().plot()"
   ]
  },
  {
   "cell_type": "code",
   "execution_count": 27,
   "id": "f97dc6db",
   "metadata": {
    "execution": {
     "iopub.execute_input": "2022-03-27T21:45:18.979559Z",
     "iopub.status.busy": "2022-03-27T21:45:18.977581Z",
     "iopub.status.idle": "2022-03-27T21:45:19.220469Z",
     "shell.execute_reply": "2022-03-27T21:45:19.220918Z",
     "shell.execute_reply.started": "2022-02-20T17:21:01.803622Z"
    },
    "papermill": {
     "duration": 0.304495,
     "end_time": "2022-03-27T21:45:19.221109",
     "exception": false,
     "start_time": "2022-03-27T21:45:18.916614",
     "status": "completed"
    },
    "tags": []
   },
   "outputs": [
    {
     "data": {
      "text/plain": [
       "<AxesSubplot:xlabel='age'>"
      ]
     },
     "execution_count": 27,
     "metadata": {},
     "output_type": "execute_result"
    },
    {
     "data": {
      "image/png": "[encoded data removed]",
      "text/plain": [
       "<Figure size 432x288 with 1 Axes>"
      ]
     },
     "metadata": {
      "needs_background": "light"
     },
     "output_type": "display_data"
    }
   ],
   "source": [
    "customers.fillna({'FN': 0}).groupby('age').FN.mean().multiply(100).plot()"
   ]
  },
  {
   "cell_type": "code",
   "execution_count": 28,
   "id": "00ec8a9d",
   "metadata": {
    "execution": {
     "iopub.execute_input": "2022-03-27T21:45:19.336699Z",
     "iopub.status.busy": "2022-03-27T21:45:19.335787Z",
     "iopub.status.idle": "2022-03-27T21:45:20.168215Z",
     "shell.execute_reply": "2022-03-27T21:45:20.167663Z",
     "shell.execute_reply.started": "2022-02-20T17:50:48.573881Z"
    },
    "papermill": {
     "duration": 0.891052,
     "end_time": "2022-03-27T21:45:20.168366",
     "exception": false,
     "start_time": "2022-03-27T21:45:19.277314",
     "status": "completed"
    },
    "tags": []
   },
   "outputs": [],
   "source": [
    "articles = pd.read_csv('../input/h-and-m-personalized-fashion-recommendations/articles.csv')"
   ]
  },
  {
   "cell_type": "code",
   "execution_count": 29,
   "id": "133a89e4",
   "metadata": {
    "execution": {
     "iopub.execute_input": "2022-03-27T21:45:20.288723Z",
     "iopub.status.busy": "2022-03-27T21:45:20.287878Z",
     "iopub.status.idle": "2022-03-27T21:45:20.358726Z",
     "shell.execute_reply": "2022-03-27T21:45:20.358037Z",
     "shell.execute_reply.started": "2022-02-20T17:27:47.281708Z"
    },
    "papermill": {
     "duration": 0.134808,
     "end_time": "2022-03-27T21:45:20.358911",
     "exception": false,
     "start_time": "2022-03-27T21:45:20.224103",
     "status": "completed"
    },
    "tags": []
   },
   "outputs": [
    {
     "name": "stdout",
     "output_type": "stream",
     "text": [
      "(105542, 25)\n"
     ]
    },
    {
     "data": {
      "text/plain": [
       "article_id                        0\n",
       "product_code                      0\n",
       "prod_name                         0\n",
       "product_type_no                   0\n",
       "product_type_name                 0\n",
       "product_group_name                0\n",
       "graphical_appearance_no           0\n",
       "graphical_appearance_name         0\n",
       "colour_group_code                 0\n",
       "colour_group_name                 0\n",
       "perceived_colour_value_id         0\n",
       "perceived_colour_value_name       0\n",
       "perceived_colour_master_id        0\n",
       "perceived_colour_master_name      0\n",
       "department_no                     0\n",
       "department_name                   0\n",
       "index_code                        0\n",
       "index_name                        0\n",
       "index_group_no                    0\n",
       "index_group_name                  0\n",
       "section_no                        0\n",
       "section_name                      0\n",
       "garment_group_no                  0\n",
       "garment_group_name                0\n",
       "detail_desc                     416\n",
       "dtype: int64"
      ]
     },
     "execution_count": 29,
     "metadata": {},
     "output_type": "execute_result"
    }
   ],
   "source": [
    "print(articles.shape)\n",
    "\n",
    "articles.isna().sum()"
   ]
  },
  {
   "cell_type": "code",
   "execution_count": 30,
   "id": "5808895b",
   "metadata": {
    "execution": {
     "iopub.execute_input": "2022-03-27T21:45:20.475621Z",
     "iopub.status.busy": "2022-03-27T21:45:20.474988Z",
     "iopub.status.idle": "2022-03-27T21:45:20.482586Z",
     "shell.execute_reply": "2022-03-27T21:45:20.482110Z",
     "shell.execute_reply.started": "2022-02-20T17:28:01.267832Z"
    },
    "papermill": {
     "duration": 0.066961,
     "end_time": "2022-03-27T21:45:20.482713",
     "exception": false,
     "start_time": "2022-03-27T21:45:20.415752",
     "status": "completed"
    },
    "tags": []
   },
   "outputs": [
    {
     "data": {
      "text/plain": [
       "0         108775\n",
       "1         108775\n",
       "2         108775\n",
       "3         110065\n",
       "4         110065\n",
       "           ...  \n",
       "105537    953450\n",
       "105538    953763\n",
       "105539    956217\n",
       "105540    957375\n",
       "105541    959461\n",
       "Name: product_code, Length: 105542, dtype: int64"
      ]
     },
     "execution_count": 30,
     "metadata": {},
     "output_type": "execute_result"
    }
   ],
   "source": [
    "articles.product_code"
   ]
  },
  {
   "cell_type": "code",
   "execution_count": 31,
   "id": "6ba498aa",
   "metadata": {
    "execution": {
     "iopub.execute_input": "2022-03-27T21:45:20.599534Z",
     "iopub.status.busy": "2022-03-27T21:45:20.598943Z",
     "iopub.status.idle": "2022-03-27T21:45:20.629643Z",
     "shell.execute_reply": "2022-03-27T21:45:20.628995Z",
     "shell.execute_reply.started": "2022-02-20T17:31:59.665372Z"
    },
    "papermill": {
     "duration": 0.089943,
     "end_time": "2022-03-27T21:45:20.629781",
     "exception": false,
     "start_time": "2022-03-27T21:45:20.539838",
     "status": "completed"
    },
    "tags": []
   },
   "outputs": [],
   "source": [
    "code_name = articles.groupby(['product_code']).prod_name.nunique()"
   ]
  },
  {
   "cell_type": "code",
   "execution_count": 32,
   "id": "973dcc4c",
   "metadata": {
    "execution": {
     "iopub.execute_input": "2022-03-27T21:45:20.749920Z",
     "iopub.status.busy": "2022-03-27T21:45:20.747526Z",
     "iopub.status.idle": "2022-03-27T21:45:20.752667Z",
     "shell.execute_reply": "2022-03-27T21:45:20.753215Z",
     "shell.execute_reply.started": "2022-02-20T17:32:25.024977Z"
    },
    "papermill": {
     "duration": 0.066949,
     "end_time": "2022-03-27T21:45:20.753370",
     "exception": false,
     "start_time": "2022-03-27T21:45:20.686421",
     "status": "completed"
    },
    "tags": []
   },
   "outputs": [
    {
     "data": {
      "text/plain": [
       "product_code\n",
       "188183    3\n",
       "288825    3\n",
       "291333    4\n",
       "291338    4\n",
       "293244    3\n",
       "         ..\n",
       "864040    3\n",
       "865261    3\n",
       "865490    3\n",
       "898918    3\n",
       "904545    3\n",
       "Name: prod_name, Length: 334, dtype: int64"
      ]
     },
     "execution_count": 32,
     "metadata": {},
     "output_type": "execute_result"
    }
   ],
   "source": [
    "code_name.loc[(code_name > 2)]"
   ]
  },
  {
   "cell_type": "code",
   "execution_count": 33,
   "id": "94defe44",
   "metadata": {
    "execution": {
     "iopub.execute_input": "2022-03-27T21:45:20.872781Z",
     "iopub.status.busy": "2022-03-27T21:45:20.871842Z",
     "iopub.status.idle": "2022-03-27T21:45:20.902154Z",
     "shell.execute_reply": "2022-03-27T21:45:20.902699Z",
     "shell.execute_reply.started": "2022-02-20T17:32:48.00812Z"
    },
    "papermill": {
     "duration": 0.091652,
     "end_time": "2022-03-27T21:45:20.902861",
     "exception": false,
     "start_time": "2022-03-27T21:45:20.811209",
     "status": "completed"
    },
    "tags": []
   },
   "outputs": [
    {
     "data": {
      "text/html": [
       "<div>\n",
       "<style scoped>\n",
       "    .dataframe tbody tr th:only-of-type {\n",
       "        vertical-align: middle;\n",
       "    }\n",
       "\n",
       "    .dataframe tbody tr th {\n",
       "        vertical-align: top;\n",
       "    }\n",
       "\n",
       "    .dataframe thead th {\n",
       "        text-align: right;\n",
       "    }\n",
       "</style>\n",
       "<table border=\"1\" class=\"dataframe\">\n",
       "  <thead>\n",
       "    <tr style=\"text-align: right;\">\n",
       "      <th></th>\n",
       "      <th>article_id</th>\n",
       "      <th>product_code</th>\n",
       "      <th>prod_name</th>\n",
       "      <th>product_type_no</th>\n",
       "      <th>product_type_name</th>\n",
       "      <th>product_group_name</th>\n",
       "      <th>graphical_appearance_no</th>\n",
       "      <th>graphical_appearance_name</th>\n",
       "      <th>colour_group_code</th>\n",
       "      <th>colour_group_name</th>\n",
       "      <th>...</th>\n",
       "      <th>department_name</th>\n",
       "      <th>index_code</th>\n",
       "      <th>index_name</th>\n",
       "      <th>index_group_no</th>\n",
       "      <th>index_group_name</th>\n",
       "      <th>section_no</th>\n",
       "      <th>section_name</th>\n",
       "      <th>garment_group_no</th>\n",
       "      <th>garment_group_name</th>\n",
       "      <th>detail_desc</th>\n",
       "    </tr>\n",
       "  </thead>\n",
       "  <tbody>\n",
       "    <tr>\n",
       "      <th>732</th>\n",
       "      <td>291333007</td>\n",
       "      <td>291333</td>\n",
       "      <td>2-p Keri</td>\n",
       "      <td>304</td>\n",
       "      <td>Underwear Tights</td>\n",
       "      <td>Socks &amp; Tights</td>\n",
       "      <td>1010016</td>\n",
       "      <td>Solid</td>\n",
       "      <td>10</td>\n",
       "      <td>White</td>\n",
       "      <td>...</td>\n",
       "      <td>Kids Girl S&amp;T</td>\n",
       "      <td>H</td>\n",
       "      <td>Children Sizes 92-140</td>\n",
       "      <td>4</td>\n",
       "      <td>Baby/Children</td>\n",
       "      <td>79</td>\n",
       "      <td>Girls Underwear &amp; Basics</td>\n",
       "      <td>1021</td>\n",
       "      <td>Socks and Tights</td>\n",
       "      <td>Tights in a soft, fine-knit cotton blend with ...</td>\n",
       "    </tr>\n",
       "    <tr>\n",
       "      <th>733</th>\n",
       "      <td>291333012</td>\n",
       "      <td>291333</td>\n",
       "      <td>2-p Keri tights SG</td>\n",
       "      <td>304</td>\n",
       "      <td>Underwear Tights</td>\n",
       "      <td>Socks &amp; Tights</td>\n",
       "      <td>1010013</td>\n",
       "      <td>Other pattern</td>\n",
       "      <td>9</td>\n",
       "      <td>Black</td>\n",
       "      <td>...</td>\n",
       "      <td>Kids Girl S&amp;T</td>\n",
       "      <td>H</td>\n",
       "      <td>Children Sizes 92-140</td>\n",
       "      <td>4</td>\n",
       "      <td>Baby/Children</td>\n",
       "      <td>79</td>\n",
       "      <td>Girls Underwear &amp; Basics</td>\n",
       "      <td>1021</td>\n",
       "      <td>Socks and Tights</td>\n",
       "      <td>Tights in a soft, fine-knit cotton blend with ...</td>\n",
       "    </tr>\n",
       "    <tr>\n",
       "      <th>734</th>\n",
       "      <td>291333013</td>\n",
       "      <td>291333</td>\n",
       "      <td>2-p Keri tights SG</td>\n",
       "      <td>304</td>\n",
       "      <td>Underwear Tights</td>\n",
       "      <td>Socks &amp; Tights</td>\n",
       "      <td>1010013</td>\n",
       "      <td>Other pattern</td>\n",
       "      <td>51</td>\n",
       "      <td>Light Pink</td>\n",
       "      <td>...</td>\n",
       "      <td>Kids Girl S&amp;T</td>\n",
       "      <td>H</td>\n",
       "      <td>Children Sizes 92-140</td>\n",
       "      <td>4</td>\n",
       "      <td>Baby/Children</td>\n",
       "      <td>79</td>\n",
       "      <td>Girls Underwear &amp; Basics</td>\n",
       "      <td>1021</td>\n",
       "      <td>Socks and Tights</td>\n",
       "      <td>Tights in a soft, fine-knit cotton blend with ...</td>\n",
       "    </tr>\n",
       "    <tr>\n",
       "      <th>735</th>\n",
       "      <td>291333014</td>\n",
       "      <td>291333</td>\n",
       "      <td>2-p Keri tights SG</td>\n",
       "      <td>304</td>\n",
       "      <td>Underwear Tights</td>\n",
       "      <td>Socks &amp; Tights</td>\n",
       "      <td>1010013</td>\n",
       "      <td>Other pattern</td>\n",
       "      <td>73</td>\n",
       "      <td>Dark Blue</td>\n",
       "      <td>...</td>\n",
       "      <td>Kids Girl S&amp;T</td>\n",
       "      <td>H</td>\n",
       "      <td>Children Sizes 92-140</td>\n",
       "      <td>4</td>\n",
       "      <td>Baby/Children</td>\n",
       "      <td>79</td>\n",
       "      <td>Girls Underwear &amp; Basics</td>\n",
       "      <td>1021</td>\n",
       "      <td>Socks and Tights</td>\n",
       "      <td>Tights in a soft, fine-knit cotton blend with ...</td>\n",
       "    </tr>\n",
       "    <tr>\n",
       "      <th>736</th>\n",
       "      <td>291333015</td>\n",
       "      <td>291333</td>\n",
       "      <td>Keri 2PACK tights SG</td>\n",
       "      <td>304</td>\n",
       "      <td>Underwear Tights</td>\n",
       "      <td>Socks &amp; Tights</td>\n",
       "      <td>1010016</td>\n",
       "      <td>Solid</td>\n",
       "      <td>51</td>\n",
       "      <td>Light Pink</td>\n",
       "      <td>...</td>\n",
       "      <td>Kids Girl S&amp;T</td>\n",
       "      <td>H</td>\n",
       "      <td>Children Sizes 92-140</td>\n",
       "      <td>4</td>\n",
       "      <td>Baby/Children</td>\n",
       "      <td>79</td>\n",
       "      <td>Girls Underwear &amp; Basics</td>\n",
       "      <td>1021</td>\n",
       "      <td>Socks and Tights</td>\n",
       "      <td>Tights in a soft, fine-knit cotton blend with ...</td>\n",
       "    </tr>\n",
       "    <tr>\n",
       "      <th>737</th>\n",
       "      <td>291333016</td>\n",
       "      <td>291333</td>\n",
       "      <td>2-p Keri tights SG</td>\n",
       "      <td>304</td>\n",
       "      <td>Underwear Tights</td>\n",
       "      <td>Socks &amp; Tights</td>\n",
       "      <td>1010016</td>\n",
       "      <td>Solid</td>\n",
       "      <td>9</td>\n",
       "      <td>Black</td>\n",
       "      <td>...</td>\n",
       "      <td>Kids Girl S&amp;T</td>\n",
       "      <td>H</td>\n",
       "      <td>Children Sizes 92-140</td>\n",
       "      <td>4</td>\n",
       "      <td>Baby/Children</td>\n",
       "      <td>79</td>\n",
       "      <td>Girls Underwear &amp; Basics</td>\n",
       "      <td>1021</td>\n",
       "      <td>Socks and Tights</td>\n",
       "      <td>Tights in a soft, fine-knit cotton blend with ...</td>\n",
       "    </tr>\n",
       "    <tr>\n",
       "      <th>738</th>\n",
       "      <td>291333018</td>\n",
       "      <td>291333</td>\n",
       "      <td>2-p Keri tights SG</td>\n",
       "      <td>304</td>\n",
       "      <td>Underwear Tights</td>\n",
       "      <td>Socks &amp; Tights</td>\n",
       "      <td>1010016</td>\n",
       "      <td>Solid</td>\n",
       "      <td>6</td>\n",
       "      <td>Light Grey</td>\n",
       "      <td>...</td>\n",
       "      <td>Kids Girl S&amp;T</td>\n",
       "      <td>H</td>\n",
       "      <td>Children Sizes 92-140</td>\n",
       "      <td>4</td>\n",
       "      <td>Baby/Children</td>\n",
       "      <td>79</td>\n",
       "      <td>Girls Underwear &amp; Basics</td>\n",
       "      <td>1021</td>\n",
       "      <td>Socks and Tights</td>\n",
       "      <td>Tights in a soft, fine-knit cotton blend with ...</td>\n",
       "    </tr>\n",
       "    <tr>\n",
       "      <th>739</th>\n",
       "      <td>291333019</td>\n",
       "      <td>291333</td>\n",
       "      <td>2-p Keri tights SG</td>\n",
       "      <td>304</td>\n",
       "      <td>Underwear Tights</td>\n",
       "      <td>Socks &amp; Tights</td>\n",
       "      <td>1010016</td>\n",
       "      <td>Solid</td>\n",
       "      <td>11</td>\n",
       "      <td>Off White</td>\n",
       "      <td>...</td>\n",
       "      <td>Kids Girl S&amp;T</td>\n",
       "      <td>H</td>\n",
       "      <td>Children Sizes 92-140</td>\n",
       "      <td>4</td>\n",
       "      <td>Baby/Children</td>\n",
       "      <td>79</td>\n",
       "      <td>Girls Underwear &amp; Basics</td>\n",
       "      <td>1021</td>\n",
       "      <td>Socks and Tights</td>\n",
       "      <td>Tights in a soft, fine-knit cotton blend with ...</td>\n",
       "    </tr>\n",
       "    <tr>\n",
       "      <th>740</th>\n",
       "      <td>291333021</td>\n",
       "      <td>291333</td>\n",
       "      <td>2-p Keri tights SG</td>\n",
       "      <td>304</td>\n",
       "      <td>Underwear Tights</td>\n",
       "      <td>Socks &amp; Tights</td>\n",
       "      <td>1010016</td>\n",
       "      <td>Solid</td>\n",
       "      <td>11</td>\n",
       "      <td>Off White</td>\n",
       "      <td>...</td>\n",
       "      <td>Kids Girl S&amp;T</td>\n",
       "      <td>H</td>\n",
       "      <td>Children Sizes 92-140</td>\n",
       "      <td>4</td>\n",
       "      <td>Baby/Children</td>\n",
       "      <td>79</td>\n",
       "      <td>Girls Underwear &amp; Basics</td>\n",
       "      <td>1021</td>\n",
       "      <td>Socks and Tights</td>\n",
       "      <td>Tights in a soft, fine-knit cotton blend with ...</td>\n",
       "    </tr>\n",
       "    <tr>\n",
       "      <th>741</th>\n",
       "      <td>291333023</td>\n",
       "      <td>291333</td>\n",
       "      <td>Keri 2pk tights SG</td>\n",
       "      <td>304</td>\n",
       "      <td>Underwear Tights</td>\n",
       "      <td>Socks &amp; Tights</td>\n",
       "      <td>1010016</td>\n",
       "      <td>Solid</td>\n",
       "      <td>6</td>\n",
       "      <td>Light Grey</td>\n",
       "      <td>...</td>\n",
       "      <td>Kids Girl S&amp;T</td>\n",
       "      <td>H</td>\n",
       "      <td>Children Sizes 92-140</td>\n",
       "      <td>4</td>\n",
       "      <td>Baby/Children</td>\n",
       "      <td>79</td>\n",
       "      <td>Girls Underwear &amp; Basics</td>\n",
       "      <td>1021</td>\n",
       "      <td>Socks and Tights</td>\n",
       "      <td>Tights in a soft, fine-knit cotton blend with ...</td>\n",
       "    </tr>\n",
       "  </tbody>\n",
       "</table>\n",
       "<p>10 rows × 25 columns</p>\n",
       "</div>"
      ],
      "text/plain": [
       "     article_id  product_code             prod_name  product_type_no  \\\n",
       "732   291333007        291333              2-p Keri              304   \n",
       "733   291333012        291333    2-p Keri tights SG              304   \n",
       "734   291333013        291333    2-p Keri tights SG              304   \n",
       "735   291333014        291333    2-p Keri tights SG              304   \n",
       "736   291333015        291333  Keri 2PACK tights SG              304   \n",
       "737   291333016        291333    2-p Keri tights SG              304   \n",
       "738   291333018        291333    2-p Keri tights SG              304   \n",
       "739   291333019        291333    2-p Keri tights SG              304   \n",
       "740   291333021        291333    2-p Keri tights SG              304   \n",
       "741   291333023        291333    Keri 2pk tights SG              304   \n",
       "\n",
       "    product_type_name product_group_name  graphical_appearance_no  \\\n",
       "732  Underwear Tights     Socks & Tights                  1010016   \n",
       "733  Underwear Tights     Socks & Tights                  1010013   \n",
       "734  Underwear Tights     Socks & Tights                  1010013   \n",
       "735  Underwear Tights     Socks & Tights                  1010013   \n",
       "736  Underwear Tights     Socks & Tights                  1010016   \n",
       "737  Underwear Tights     Socks & Tights                  1010016   \n",
       "738  Underwear Tights     Socks & Tights                  1010016   \n",
       "739  Underwear Tights     Socks & Tights                  1010016   \n",
       "740  Underwear Tights     Socks & Tights                  1010016   \n",
       "741  Underwear Tights     Socks & Tights                  1010016   \n",
       "\n",
       "    graphical_appearance_name  colour_group_code colour_group_name  ...  \\\n",
       "732                     Solid                 10             White  ...   \n",
       "733             Other pattern                  9             Black  ...   \n",
       "734             Other pattern                 51        Light Pink  ...   \n",
       "735             Other pattern                 73         Dark Blue  ...   \n",
       "736                     Solid                 51        Light Pink  ...   \n",
       "737                     Solid                  9             Black  ...   \n",
       "738                     Solid                  6        Light Grey  ...   \n",
       "739                     Solid                 11         Off White  ...   \n",
       "740                     Solid                 11         Off White  ...   \n",
       "741                     Solid                  6        Light Grey  ...   \n",
       "\n",
       "     department_name index_code             index_name index_group_no  \\\n",
       "732    Kids Girl S&T          H  Children Sizes 92-140              4   \n",
       "733    Kids Girl S&T          H  Children Sizes 92-140              4   \n",
       "734    Kids Girl S&T          H  Children Sizes 92-140              4   \n",
       "735    Kids Girl S&T          H  Children Sizes 92-140              4   \n",
       "736    Kids Girl S&T          H  Children Sizes 92-140              4   \n",
       "737    Kids Girl S&T          H  Children Sizes 92-140              4   \n",
       "738    Kids Girl S&T          H  Children Sizes 92-140              4   \n",
       "739    Kids Girl S&T          H  Children Sizes 92-140              4   \n",
       "740    Kids Girl S&T          H  Children Sizes 92-140              4   \n",
       "741    Kids Girl S&T          H  Children Sizes 92-140              4   \n",
       "\n",
       "     index_group_name section_no              section_name garment_group_no  \\\n",
       "732     Baby/Children         79  Girls Underwear & Basics             1021   \n",
       "733     Baby/Children         79  Girls Underwear & Basics             1021   \n",
       "734     Baby/Children         79  Girls Underwear & Basics             1021   \n",
       "735     Baby/Children         79  Girls Underwear & Basics             1021   \n",
       "736     Baby/Children         79  Girls Underwear & Basics             1021   \n",
       "737     Baby/Children         79  Girls Underwear & Basics             1021   \n",
       "738     Baby/Children         79  Girls Underwear & Basics             1021   \n",
       "739     Baby/Children         79  Girls Underwear & Basics             1021   \n",
       "740     Baby/Children         79  Girls Underwear & Basics             1021   \n",
       "741     Baby/Children         79  Girls Underwear & Basics             1021   \n",
       "\n",
       "     garment_group_name                                        detail_desc  \n",
       "732    Socks and Tights  Tights in a soft, fine-knit cotton blend with ...  \n",
       "733    Socks and Tights  Tights in a soft, fine-knit cotton blend with ...  \n",
       "734    Socks and Tights  Tights in a soft, fine-knit cotton blend with ...  \n",
       "735    Socks and Tights  Tights in a soft, fine-knit cotton blend with ...  \n",
       "736    Socks and Tights  Tights in a soft, fine-knit cotton blend with ...  \n",
       "737    Socks and Tights  Tights in a soft, fine-knit cotton blend with ...  \n",
       "738    Socks and Tights  Tights in a soft, fine-knit cotton blend with ...  \n",
       "739    Socks and Tights  Tights in a soft, fine-knit cotton blend with ...  \n",
       "740    Socks and Tights  Tights in a soft, fine-knit cotton blend with ...  \n",
       "741    Socks and Tights  Tights in a soft, fine-knit cotton blend with ...  \n",
       "\n",
       "[10 rows x 25 columns]"
      ]
     },
     "execution_count": 33,
     "metadata": {},
     "output_type": "execute_result"
    }
   ],
   "source": [
    "# prod_name useless\n",
    "\n",
    "articles[articles.product_code == 291333]"
   ]
  },
  {
   "cell_type": "code",
   "execution_count": 34,
   "id": "7be829d6",
   "metadata": {
    "execution": {
     "iopub.execute_input": "2022-03-27T21:45:21.024933Z",
     "iopub.status.busy": "2022-03-27T21:45:21.024051Z",
     "iopub.status.idle": "2022-03-27T21:45:21.158698Z",
     "shell.execute_reply": "2022-03-27T21:45:21.159231Z",
     "shell.execute_reply.started": "2022-02-20T17:36:45.159722Z"
    },
    "papermill": {
     "duration": 0.19633,
     "end_time": "2022-03-27T21:45:21.159400",
     "exception": false,
     "start_time": "2022-03-27T21:45:20.963070",
     "status": "completed"
    },
    "tags": []
   },
   "outputs": [
    {
     "data": {
      "text/plain": [
       "article_id                      105542\n",
       "product_code                     47224\n",
       "prod_name                        45875\n",
       "product_type_no                    132\n",
       "product_type_name                  131\n",
       "product_group_name                  19\n",
       "graphical_appearance_no             30\n",
       "graphical_appearance_name           30\n",
       "colour_group_code                   50\n",
       "colour_group_name                   50\n",
       "perceived_colour_value_id            8\n",
       "perceived_colour_value_name          8\n",
       "perceived_colour_master_id          20\n",
       "perceived_colour_master_name        20\n",
       "department_no                      299\n",
       "department_name                    250\n",
       "index_code                          10\n",
       "index_name                          10\n",
       "index_group_no                       5\n",
       "index_group_name                     5\n",
       "section_no                          57\n",
       "section_name                        56\n",
       "garment_group_no                    21\n",
       "garment_group_name                  21\n",
       "detail_desc                      43404\n",
       "dtype: int64"
      ]
     },
     "execution_count": 34,
     "metadata": {},
     "output_type": "execute_result"
    }
   ],
   "source": [
    "articles.nunique()"
   ]
  },
  {
   "cell_type": "code",
   "execution_count": 35,
   "id": "abc1466a",
   "metadata": {
    "execution": {
     "iopub.execute_input": "2022-03-27T21:45:21.279379Z",
     "iopub.status.busy": "2022-03-27T21:45:21.278473Z",
     "iopub.status.idle": "2022-03-27T21:45:21.301143Z",
     "shell.execute_reply": "2022-03-27T21:45:21.301667Z",
     "shell.execute_reply.started": "2022-02-20T17:39:41.13481Z"
    },
    "papermill": {
     "duration": 0.084136,
     "end_time": "2022-03-27T21:45:21.301824",
     "exception": false,
     "start_time": "2022-03-27T21:45:21.217688",
     "status": "completed"
    },
    "tags": []
   },
   "outputs": [
    {
     "data": {
      "text/plain": [
       "product_type_name\n",
       "Umbrella    2\n",
       "Name: product_type_no, dtype: int64"
      ]
     },
     "execution_count": 35,
     "metadata": {},
     "output_type": "execute_result"
    }
   ],
   "source": [
    "articles.groupby('product_type_name').product_type_no.nunique().loc[lambda x: x > 1]"
   ]
  },
  {
   "cell_type": "code",
   "execution_count": 36,
   "id": "05444833",
   "metadata": {
    "execution": {
     "iopub.execute_input": "2022-03-27T21:45:21.421752Z",
     "iopub.status.busy": "2022-03-27T21:45:21.420853Z",
     "iopub.status.idle": "2022-03-27T21:45:21.436150Z",
     "shell.execute_reply": "2022-03-27T21:45:21.436660Z",
     "shell.execute_reply.started": "2022-02-20T17:40:42.86747Z"
    },
    "papermill": {
     "duration": 0.076314,
     "end_time": "2022-03-27T21:45:21.436813",
     "exception": false,
     "start_time": "2022-03-27T21:45:21.360499",
     "status": "completed"
    },
    "tags": []
   },
   "outputs": [
    {
     "data": {
      "text/plain": [
       "83     26\n",
       "532     3\n",
       "Name: product_type_no, dtype: int64"
      ]
     },
     "execution_count": 36,
     "metadata": {},
     "output_type": "execute_result"
    }
   ],
   "source": [
    "# product_type_no useless\n",
    "\n",
    "articles.loc[articles.product_type_name == 'Umbrella'].product_type_no.value_counts()"
   ]
  },
  {
   "cell_type": "code",
   "execution_count": 37,
   "id": "a3b92f5c",
   "metadata": {
    "execution": {
     "iopub.execute_input": "2022-03-27T21:45:21.558403Z",
     "iopub.status.busy": "2022-03-27T21:45:21.557504Z",
     "iopub.status.idle": "2022-03-27T21:45:21.570161Z",
     "shell.execute_reply": "2022-03-27T21:45:21.570577Z",
     "shell.execute_reply.started": "2022-02-20T17:43:53.547369Z"
    },
    "papermill": {
     "duration": 0.074511,
     "end_time": "2022-03-27T21:45:21.570729",
     "exception": false,
     "start_time": "2022-03-27T21:45:21.496218",
     "status": "completed"
    },
    "tags": []
   },
   "outputs": [
    {
     "data": {
      "text/plain": [
       "Trousers    11169\n",
       "Dress       10362\n",
       "Sweater      9302\n",
       "T-shirt      7904\n",
       "Top          4155\n",
       "Name: product_type_name, dtype: int64"
      ]
     },
     "execution_count": 37,
     "metadata": {},
     "output_type": "execute_result"
    }
   ],
   "source": [
    "articles.product_type_name.value_counts().head()"
   ]
  },
  {
   "cell_type": "code",
   "execution_count": 38,
   "id": "4ad64739",
   "metadata": {
    "execution": {
     "iopub.execute_input": "2022-03-27T21:45:21.691211Z",
     "iopub.status.busy": "2022-03-27T21:45:21.690325Z",
     "iopub.status.idle": "2022-03-27T21:45:23.283245Z",
     "shell.execute_reply": "2022-03-27T21:45:23.282272Z",
     "shell.execute_reply.started": "2022-02-20T17:57:33.99939Z"
    },
    "papermill": {
     "duration": 1.654521,
     "end_time": "2022-03-27T21:45:23.283402",
     "exception": false,
     "start_time": "2022-03-27T21:45:21.628881",
     "status": "completed"
    },
    "tags": []
   },
   "outputs": [],
   "source": [
    "article_stat = data.groupby('article_id').price.agg(['count', 'mean', 'sum']).reset_index()"
   ]
  },
  {
   "cell_type": "code",
   "execution_count": 39,
   "id": "7df00f17",
   "metadata": {
    "execution": {
     "iopub.execute_input": "2022-03-27T21:45:23.434723Z",
     "iopub.status.busy": "2022-03-27T21:45:23.433987Z",
     "iopub.status.idle": "2022-03-27T21:45:23.653751Z",
     "shell.execute_reply": "2022-03-27T21:45:23.653063Z",
     "shell.execute_reply.started": "2022-02-20T17:58:54.727826Z"
    },
    "papermill": {
     "duration": 0.294986,
     "end_time": "2022-03-27T21:45:23.653898",
     "exception": false,
     "start_time": "2022-03-27T21:45:23.358912",
     "status": "completed"
    },
    "tags": []
   },
   "outputs": [],
   "source": [
    "articles = articles.merge(article_stat, how='left', on='article_id')"
   ]
  },
  {
   "cell_type": "code",
   "execution_count": 40,
   "id": "418fde14",
   "metadata": {
    "execution": {
     "iopub.execute_input": "2022-03-27T21:45:23.775640Z",
     "iopub.status.busy": "2022-03-27T21:45:23.775031Z",
     "iopub.status.idle": "2022-03-27T21:45:23.790664Z",
     "shell.execute_reply": "2022-03-27T21:45:23.790114Z",
     "shell.execute_reply.started": "2022-02-20T17:59:32.74985Z"
    },
    "papermill": {
     "duration": 0.078373,
     "end_time": "2022-03-27T21:45:23.790791",
     "exception": false,
     "start_time": "2022-03-27T21:45:23.712418",
     "status": "completed"
    },
    "tags": []
   },
   "outputs": [
    {
     "data": {
      "text/plain": [
       "product_type_name\n",
       "Trousers         150908.046237\n",
       "Dress            118185.796576\n",
       "Sweater           80732.982881\n",
       "Blouse            42424.630475\n",
       "Jacket            40422.762017\n",
       "                     ...      \n",
       "Bumbag                0.243797\n",
       "Wood balls            0.165068\n",
       "Clothing mist         0.092271\n",
       "Toy                   0.044424\n",
       "Pre-walkers           0.000000\n",
       "Name: sum, Length: 131, dtype: float64"
      ]
     },
     "execution_count": 40,
     "metadata": {},
     "output_type": "execute_result"
    }
   ],
   "source": [
    "articles.groupby('product_type_name')['sum'].sum().sort_values(ascending=False)"
   ]
  },
  {
   "cell_type": "code",
   "execution_count": 41,
   "id": "aab1687a",
   "metadata": {
    "execution": {
     "iopub.execute_input": "2022-03-27T21:45:23.917997Z",
     "iopub.status.busy": "2022-03-27T21:45:23.917379Z",
     "iopub.status.idle": "2022-03-27T21:45:23.927827Z",
     "shell.execute_reply": "2022-03-27T21:45:23.928281Z",
     "shell.execute_reply.started": "2022-02-20T17:59:56.093861Z"
    },
    "papermill": {
     "duration": 0.0785,
     "end_time": "2022-03-27T21:45:23.928445",
     "exception": false,
     "start_time": "2022-03-27T21:45:23.849945",
     "status": "completed"
    },
    "tags": []
   },
   "outputs": [
    {
     "data": {
      "text/plain": [
       "product_type_name\n",
       "Coat           0.115053\n",
       "Blazer         0.068483\n",
       "Jacket         0.060538\n",
       "Boots          0.057244\n",
       "Flat shoes     0.051650\n",
       "                 ...   \n",
       "Hair string    0.005574\n",
       "Hair ties      0.005297\n",
       "Wood balls     0.004716\n",
       "Marker pen     0.003210\n",
       "Pre-walkers         NaN\n",
       "Name: mean, Length: 131, dtype: float64"
      ]
     },
     "execution_count": 41,
     "metadata": {},
     "output_type": "execute_result"
    }
   ],
   "source": [
    "articles.groupby('product_type_name')['mean'].mean().sort_values(ascending=False)"
   ]
  },
  {
   "cell_type": "code",
   "execution_count": 42,
   "id": "bfb5ae85",
   "metadata": {
    "execution": {
     "iopub.execute_input": "2022-03-27T21:45:24.059772Z",
     "iopub.status.busy": "2022-03-27T21:45:24.059116Z",
     "iopub.status.idle": "2022-03-27T21:45:24.070185Z",
     "shell.execute_reply": "2022-03-27T21:45:24.069594Z",
     "shell.execute_reply.started": "2022-02-20T18:00:25.684631Z"
    },
    "papermill": {
     "duration": 0.081226,
     "end_time": "2022-03-27T21:45:24.070312",
     "exception": false,
     "start_time": "2022-03-27T21:45:23.989086",
     "status": "completed"
    },
    "tags": []
   },
   "outputs": [
    {
     "data": {
      "text/plain": [
       "product_type_name\n",
       "Trousers         4217017.0\n",
       "Dress            3238428.0\n",
       "Sweater          2783274.0\n",
       "T-shirt          2203750.0\n",
       "Top              1583408.0\n",
       "                   ...    \n",
       "Towel                 20.0\n",
       "Bumbag                16.0\n",
       "Toy                    5.0\n",
       "Clothing mist          4.0\n",
       "Pre-walkers            0.0\n",
       "Name: count, Length: 131, dtype: float64"
      ]
     },
     "execution_count": 42,
     "metadata": {},
     "output_type": "execute_result"
    }
   ],
   "source": [
    "# Ориентируемся именно на то, что чаще покупают\n",
    "\n",
    "articles.groupby('product_type_name')['count'].sum().sort_values(ascending=False)"
   ]
  },
  {
   "cell_type": "code",
   "execution_count": 43,
   "id": "bf7d5953",
   "metadata": {
    "execution": {
     "iopub.execute_input": "2022-03-27T21:45:24.203690Z",
     "iopub.status.busy": "2022-03-27T21:45:24.193380Z",
     "iopub.status.idle": "2022-03-27T21:45:24.205959Z",
     "shell.execute_reply": "2022-03-27T21:45:24.206479Z",
     "shell.execute_reply.started": "2022-02-20T18:01:53.348496Z"
    },
    "papermill": {
     "duration": 0.07639,
     "end_time": "2022-03-27T21:45:24.206644",
     "exception": false,
     "start_time": "2022-03-27T21:45:24.130254",
     "status": "completed"
    },
    "tags": []
   },
   "outputs": [
    {
     "data": {
      "text/plain": [
       "Solid                  49747\n",
       "All over pattern       17165\n",
       "Melange                 5938\n",
       "Stripe                  4990\n",
       "Denim                   4842\n",
       "Front print             3215\n",
       "Placement print         3098\n",
       "Check                   2178\n",
       "Colour blocking         1830\n",
       "Lace                    1513\n",
       "Other structure         1502\n",
       "Application/3D          1341\n",
       "Embroidery              1165\n",
       "Mixed solid/pattern     1132\n",
       "Glittering/Metallic      958\n",
       "Jacquard                 830\n",
       "Sequin                   806\n",
       "Dot                      681\n",
       "Treatment                586\n",
       "Other pattern            515\n",
       "Contrast                 376\n",
       "Metallic                 346\n",
       "Chambray                 322\n",
       "Slub                     153\n",
       "Transparent               86\n",
       "Mesh                      86\n",
       "Neps                      66\n",
       "Unknown                   52\n",
       "Argyle                    15\n",
       "Hologram                   8\n",
       "Name: graphical_appearance_name, dtype: int64"
      ]
     },
     "execution_count": 43,
     "metadata": {},
     "output_type": "execute_result"
    }
   ],
   "source": [
    "articles.graphical_appearance_name.value_counts()"
   ]
  },
  {
   "cell_type": "code",
   "execution_count": 44,
   "id": "0daa1728",
   "metadata": {
    "execution": {
     "iopub.execute_input": "2022-03-27T21:45:24.332489Z",
     "iopub.status.busy": "2022-03-27T21:45:24.328924Z",
     "iopub.status.idle": "2022-03-27T21:45:24.345325Z",
     "shell.execute_reply": "2022-03-27T21:45:24.345769Z",
     "shell.execute_reply.started": "2022-02-20T18:02:44.276312Z"
    },
    "papermill": {
     "duration": 0.079782,
     "end_time": "2022-03-27T21:45:24.345928",
     "exception": false,
     "start_time": "2022-03-27T21:45:24.266146",
     "status": "completed"
    },
    "tags": []
   },
   "outputs": [
    {
     "data": {
      "text/plain": [
       "graphical_appearance_name\n",
       "Solid                  17849931.0\n",
       "All over pattern        3972970.0\n",
       "Denim                   1970734.0\n",
       "Melange                 1900654.0\n",
       "Stripe                  1450762.0\n",
       "Other structure          726854.0\n",
       "Check                    591383.0\n",
       "Lace                     589724.0\n",
       "Placement print          431713.0\n",
       "Front print              321195.0\n",
       "Embroidery               311322.0\n",
       "Dot                      243926.0\n",
       "Colour blocking          240190.0\n",
       "Glittering/Metallic      187392.0\n",
       "Jacquard                 174815.0\n",
       "Contrast                 174796.0\n",
       "Application/3D           137650.0\n",
       "Treatment                113115.0\n",
       "Mixed solid/pattern       71959.0\n",
       "Sequin                    69282.0\n",
       "Metallic                  61458.0\n",
       "Mesh                      40720.0\n",
       "Other pattern             40272.0\n",
       "Chambray                  35701.0\n",
       "Neps                      30304.0\n",
       "Slub                      21141.0\n",
       "Transparent               18072.0\n",
       "Unknown                    9022.0\n",
       "Argyle                     1102.0\n",
       "Hologram                    165.0\n",
       "Name: count, dtype: float64"
      ]
     },
     "execution_count": 44,
     "metadata": {},
     "output_type": "execute_result"
    }
   ],
   "source": [
    "# Возможно следует учесть такую штуку, как тренд\n",
    "# Стоит разделить признаки - часть из них учесть по последним данным, часть циклично (проверить гипотезу)\n",
    "# Частота продаж по категории коррелирует с количеством проданных единици товара?\n",
    "\n",
    "articles.groupby('graphical_appearance_name')['count'].sum().sort_values(ascending=False)"
   ]
  },
  {
   "cell_type": "code",
   "execution_count": 45,
   "id": "5454f01f",
   "metadata": {
    "execution": {
     "iopub.execute_input": "2022-03-27T21:45:24.469463Z",
     "iopub.status.busy": "2022-03-27T21:45:24.468919Z",
     "iopub.status.idle": "2022-03-27T21:45:24.483666Z",
     "shell.execute_reply": "2022-03-27T21:45:24.484146Z",
     "shell.execute_reply.started": "2022-02-20T18:11:02.424518Z"
    },
    "papermill": {
     "duration": 0.077755,
     "end_time": "2022-03-27T21:45:24.484301",
     "exception": false,
     "start_time": "2022-03-27T21:45:24.406546",
     "status": "completed"
    },
    "tags": []
   },
   "outputs": [
    {
     "data": {
      "text/plain": [
       "perceived_colour_value_name\n",
       "Dark            15589563.0\n",
       "Dusty Light      5405347.0\n",
       "Light            4573873.0\n",
       "Medium Dusty     3755532.0\n",
       "Medium           1231992.0\n",
       "Bright           1205395.0\n",
       "Undefined          21027.0\n",
       "Unknown             5595.0\n",
       "Name: count, dtype: float64"
      ]
     },
     "execution_count": 45,
     "metadata": {},
     "output_type": "execute_result"
    }
   ],
   "source": [
    "articles.groupby('perceived_colour_value_name')['count'].sum().sort_values(ascending=False)"
   ]
  },
  {
   "cell_type": "code",
   "execution_count": 46,
   "id": "44468af1",
   "metadata": {
    "execution": {
     "iopub.execute_input": "2022-03-27T21:45:24.607843Z",
     "iopub.status.busy": "2022-03-27T21:45:24.607291Z",
     "iopub.status.idle": "2022-03-27T21:45:24.622855Z",
     "shell.execute_reply": "2022-03-27T21:45:24.623374Z",
     "shell.execute_reply.started": "2022-02-20T18:11:19.208684Z"
    },
    "papermill": {
     "duration": 0.078569,
     "end_time": "2022-03-27T21:45:24.623545",
     "exception": false,
     "start_time": "2022-03-27T21:45:24.544976",
     "status": "completed"
    },
    "tags": []
   },
   "outputs": [
    {
     "data": {
      "text/plain": [
       "perceived_colour_master_name\n",
       "Black              10962095.0\n",
       "White               4220669.0\n",
       "Blue                4194445.0\n",
       "Beige               2061606.0\n",
       "Grey                1902708.0\n",
       "Pink                1594447.0\n",
       "Red                 1545034.0\n",
       "Green                937512.0\n",
       "Khaki green          895492.0\n",
       "Yellow               740676.0\n",
       "Orange               690613.0\n",
       "Brown                623637.0\n",
       "Metal                371250.0\n",
       "Mole                 333155.0\n",
       "Unknown              270990.0\n",
       "Turquoise            226801.0\n",
       "Lilac Purple         195072.0\n",
       "undefined             21027.0\n",
       "Yellowish Green         930.0\n",
       "Bluish Green            165.0\n",
       "Name: count, dtype: float64"
      ]
     },
     "execution_count": 46,
     "metadata": {},
     "output_type": "execute_result"
    }
   ],
   "source": [
    "\n",
    "\n",
    "articles.groupby('perceived_colour_master_name')['count'].sum().sort_values(ascending=False)"
   ]
  },
  {
   "cell_type": "code",
   "execution_count": 47,
   "id": "e3b3c97c",
   "metadata": {
    "execution": {
     "iopub.execute_input": "2022-03-27T21:45:24.755665Z",
     "iopub.status.busy": "2022-03-27T21:45:24.755078Z",
     "iopub.status.idle": "2022-03-27T21:45:24.761093Z",
     "shell.execute_reply": "2022-03-27T21:45:24.761649Z",
     "shell.execute_reply.started": "2022-02-20T18:17:31.414002Z"
    },
    "papermill": {
     "duration": 0.077605,
     "end_time": "2022-03-27T21:45:24.761807",
     "exception": false,
     "start_time": "2022-03-27T21:45:24.684202",
     "status": "completed"
    },
    "tags": []
   },
   "outputs": [
    {
     "data": {
      "text/plain": [
       "Jersey                             4604\n",
       "Knitwear                           3503\n",
       "Trouser                            2655\n",
       "Blouse                             2362\n",
       "Dress                              2087\n",
       "                                   ... \n",
       "Woven bottoms inactive from S.7       1\n",
       "Jersey inactive from S.6              1\n",
       "EQ Divided Blue                       1\n",
       "Accessories Other                     1\n",
       "Kids Boy License                      1\n",
       "Name: department_name, Length: 250, dtype: int64"
      ]
     },
     "execution_count": 47,
     "metadata": {},
     "output_type": "execute_result"
    }
   ],
   "source": [
    "# useless?? Товары которые п\n",
    "\n",
    "articles.department_name.value_counts()"
   ]
  },
  {
   "cell_type": "code",
   "execution_count": 48,
   "id": "586af08b",
   "metadata": {
    "execution": {
     "iopub.execute_input": "2022-03-27T21:45:24.886759Z",
     "iopub.status.busy": "2022-03-27T21:45:24.886151Z",
     "iopub.status.idle": "2022-03-27T21:45:24.898061Z",
     "shell.execute_reply": "2022-03-27T21:45:24.898592Z",
     "shell.execute_reply.started": "2022-02-20T18:18:47.092542Z"
    },
    "papermill": {
     "duration": 0.075929,
     "end_time": "2022-03-27T21:45:24.898745",
     "exception": false,
     "start_time": "2022-03-27T21:45:24.822816",
     "status": "completed"
    },
    "tags": []
   },
   "outputs": [
    {
     "data": {
      "text/plain": [
       "Ladieswear                        26001\n",
       "Divided                           15149\n",
       "Menswear                          12553\n",
       "Children Sizes 92-140             12007\n",
       "Children Sizes 134-170             9214\n",
       "Baby Sizes 50-98                   8875\n",
       "Ladies Accessories                 6961\n",
       "Lingeries/Tights                   6775\n",
       "Children Accessories, Swimwear     4615\n",
       "Sport                              3392\n",
       "Name: index_name, dtype: int64"
      ]
     },
     "execution_count": 48,
     "metadata": {},
     "output_type": "execute_result"
    }
   ],
   "source": [
    "articles.index_name.value_counts()"
   ]
  },
  {
   "cell_type": "code",
   "execution_count": 49,
   "id": "fa42061f",
   "metadata": {
    "execution": {
     "iopub.execute_input": "2022-03-27T21:45:25.028200Z",
     "iopub.status.busy": "2022-03-27T21:45:25.027551Z",
     "iopub.status.idle": "2022-03-27T21:45:25.040321Z",
     "shell.execute_reply": "2022-03-27T21:45:25.040754Z",
     "shell.execute_reply.started": "2022-02-20T18:21:38.913362Z"
    },
    "papermill": {
     "duration": 0.078926,
     "end_time": "2022-03-27T21:45:25.040908",
     "exception": false,
     "start_time": "2022-03-27T21:45:24.961982",
     "status": "completed"
    },
    "tags": []
   },
   "outputs": [
    {
     "data": {
      "text/plain": [
       "Jersey Fancy                     21445\n",
       "Accessories                      11519\n",
       "Jersey Basic                      8126\n",
       "Knitwear                          7490\n",
       "Under-, Nightwear                 7441\n",
       "Trousers                          6727\n",
       "Blouses                           5838\n",
       "Shoes                             5145\n",
       "Dresses Ladies                    4874\n",
       "Outdoor                           4501\n",
       "Unknown                           3873\n",
       "Trousers Denim                    3100\n",
       "Swimwear                          2787\n",
       "Socks and Tights                  2272\n",
       "Shirts                            2116\n",
       "Woven/Jersey/Knitted mix Baby     1965\n",
       "Shorts                            1559\n",
       "Dresses/Skirts girls              1541\n",
       "Skirts                            1254\n",
       "Special Offers                    1061\n",
       "Dressed                            908\n",
       "Name: garment_group_name, dtype: int64"
      ]
     },
     "execution_count": 49,
     "metadata": {},
     "output_type": "execute_result"
    }
   ],
   "source": [
    "# Useless feature (для редких product_name используем это)\n",
    "\n",
    "articles.garment_group_name.value_counts()"
   ]
  },
  {
   "cell_type": "code",
   "execution_count": 50,
   "id": "0ef7ebfc",
   "metadata": {
    "execution": {
     "iopub.execute_input": "2022-03-27T21:45:25.179286Z",
     "iopub.status.busy": "2022-03-27T21:45:25.178672Z",
     "iopub.status.idle": "2022-03-27T21:45:25.181076Z",
     "shell.execute_reply": "2022-03-27T21:45:25.181500Z",
     "shell.execute_reply.started": "2022-02-20T18:23:05.911078Z"
    },
    "papermill": {
     "duration": 0.077932,
     "end_time": "2022-03-27T21:45:25.181665",
     "exception": false,
     "start_time": "2022-03-27T21:45:25.103733",
     "status": "completed"
    },
    "tags": []
   },
   "outputs": [
    {
     "data": {
      "text/plain": [
       "Womens Everyday Collection        7295\n",
       "Divided Collection                7124\n",
       "Baby Essentials & Complements     4932\n",
       "Kids Girl                         4469\n",
       "Young Girl                        3899\n",
       "Womens Lingerie                   3598\n",
       "Girls Underwear & Basics          3490\n",
       "Womens Tailoring                  3376\n",
       "Kids Boy                          3328\n",
       "Womens Small accessories          3270\n",
       "Womens Casual                     2725\n",
       "Kids Outerwear                    2665\n",
       "Womens Trend                      2622\n",
       "Divided Projects                  2364\n",
       "Young Boy                         2352\n",
       "H&M+                              2337\n",
       "Men Underwear                     2322\n",
       "Mama                              2266\n",
       "Kids & Baby Shoes                 2142\n",
       "Boys Underwear & Basics           2034\n",
       "Womens Shoes                      2026\n",
       "Ladies H&M Sport                  1894\n",
       "Womens Swimwear, beachwear        1839\n",
       "Contemporary Smart                1778\n",
       "Baby Girl                         1760\n",
       "Divided Accessories               1732\n",
       "Kids Accessories, Swimwear & D    1731\n",
       "Divided Basics                    1723\n",
       "Baby Boy                          1717\n",
       "Womens Big accessories            1665\n",
       "Womens Everyday Basics            1581\n",
       "Womens Nightwear, Socks & Tigh    1566\n",
       "Contemporary Casual               1560\n",
       "Contemporary Street               1490\n",
       "Men Suits & Tailoring             1428\n",
       "Men Accessories                   1337\n",
       "Womens Premium                    1270\n",
       "Ladies Denim                      1101\n",
       "Divided Selected                   991\n",
       "Men H&M Sport                      872\n",
       "Womens Jackets                     829\n",
       "Special Collections                682\n",
       "Men Shoes                          645\n",
       "Mens Outerwear                     629\n",
       "Kids Sports                        626\n",
       "Collaborations                     559\n",
       "Denim Men                          521\n",
       "Men Edition                        330\n",
       "Men Project                        298\n",
       "Divided Asia keys                  280\n",
       "Kids Local Relevance               192\n",
       "Men Other 2                        190\n",
       "Divided Complements Other           35\n",
       "EQ Divided                          26\n",
       "Men Other                           25\n",
       "Ladies Other                         4\n",
       "Name: section_name, dtype: int64"
      ]
     },
     "execution_count": 50,
     "metadata": {},
     "output_type": "execute_result"
    }
   ],
   "source": [
    "# Используем эту фичу в привязке к клиентам\n",
    "\n",
    "articles.section_name.value_counts()"
   ]
  },
  {
   "cell_type": "code",
   "execution_count": 51,
   "id": "428c0256",
   "metadata": {
    "execution": {
     "iopub.execute_input": "2022-03-27T21:45:25.308759Z",
     "iopub.status.busy": "2022-03-27T21:45:25.308214Z",
     "iopub.status.idle": "2022-03-27T21:45:25.312700Z",
     "shell.execute_reply": "2022-03-27T21:45:25.313150Z",
     "shell.execute_reply.started": "2022-02-20T18:26:03.911147Z"
    },
    "papermill": {
     "duration": 0.069657,
     "end_time": "2022-03-27T21:45:25.313314",
     "exception": false,
     "start_time": "2022-03-27T21:45:25.243657",
     "status": "completed"
    },
    "tags": []
   },
   "outputs": [
    {
     "data": {
      "text/plain": [
       "'Jersey top with narrow shoulder straps.'"
      ]
     },
     "execution_count": 51,
     "metadata": {},
     "output_type": "execute_result"
    }
   ],
   "source": [
    "# Useless\n",
    "articles.detail_desc.iloc[2]"
   ]
  },
  {
   "cell_type": "code",
   "execution_count": null,
   "id": "88063b8c",
   "metadata": {
    "papermill": {
     "duration": 0.061719,
     "end_time": "2022-03-27T21:45:25.437476",
     "exception": false,
     "start_time": "2022-03-27T21:45:25.375757",
     "status": "completed"
    },
    "tags": []
   },
   "outputs": [],
   "source": []
  }
 ],
 "metadata": {
  "kernelspec": {
   "display_name": "Python 3",
   "language": "python",
   "name": "python3"
  },
  "language_info": {
   "codemirror_mode": {
    "name": "ipython",
    "version": 3
   },
   "file_extension": ".py",
   "mimetype": "text/x-python",
   "name": "python",
   "nbconvert_exporter": "python",
   "pygments_lexer": "ipython3",
   "version": "3.7.12"
  },
  "papermill": {
   "default_parameters": {},
   "duration": 133.717381,
   "end_time": "2022-03-27T21:45:26.711775",
   "environment_variables": {},
   "exception": null,
   "input_path": "__notebook__.ipynb",
   "output_path": "__notebook__.ipynb",
   "parameters": {},
   "start_time": "2022-03-27T21:43:12.994394",
   "version": "2.3.3"
  }
 },
 "nbformat": 4,
 "nbformat_minor": 5
}
